{
 "cells": [
  {
   "cell_type": "markdown",
   "metadata": {},
   "source": [
    "# ETL Job"
   ]
  },
  {
   "cell_type": "markdown",
   "metadata": {},
   "source": [
    "This notebook consists on extract research dataset, performe some transformations on it, and then store structured data in MySQL."
   ]
  },
  {
   "cell_type": "markdown",
   "metadata": {},
   "source": [
    "## Extract"
   ]
  },
  {
   "cell_type": "markdown",
   "metadata": {},
   "source": [
    "### Open file"
   ]
  },
  {
   "cell_type": "code",
   "execution_count": 1,
   "metadata": {},
   "outputs": [],
   "source": [
    "from zipfile import ZipFile"
   ]
  },
  {
   "cell_type": "code",
   "execution_count": null,
   "metadata": {
    "tags": [
     "parameters"
    ]
   },
   "outputs": [],
   "source": [
    "research_datasets_file = '../data/research_datasets.zip'"
   ]
  },
  {
   "cell_type": "code",
   "execution_count": 2,
   "metadata": {},
   "outputs": [
    {
     "data": {
      "text/plain": [
       "<zipfile.ZipFile filename='../data/research_datasets.zip' mode='r'>"
      ]
     },
     "execution_count": 2,
     "metadata": {},
     "output_type": "execute_result"
    }
   ],
   "source": [
    "zipped_datasets = ZipFile(research_datasets_file)\n",
    "zipped_datasets"
   ]
  },
  {
   "cell_type": "code",
   "execution_count": 3,
   "metadata": {},
   "outputs": [
    {
     "data": {
      "text/plain": [
       "['2020-01-01.csv',\n",
       " '2020-01-02.csv',\n",
       " '2020-01-03.csv',\n",
       " '2020-01-04.csv',\n",
       " '2020-01-05.csv']"
      ]
     },
     "execution_count": 3,
     "metadata": {},
     "output_type": "execute_result"
    }
   ],
   "source": [
    "dataset_files = zipped_datasets.namelist()\n",
    "dataset_files[:5]"
   ]
  },
  {
   "cell_type": "markdown",
   "metadata": {},
   "source": [
    "### Read data"
   ]
  },
  {
   "cell_type": "code",
   "execution_count": 5,
   "metadata": {},
   "outputs": [],
   "source": [
    "import pandas as pd"
   ]
  },
  {
   "cell_type": "code",
   "execution_count": 6,
   "metadata": {},
   "outputs": [],
   "source": [
    "def read_research_dataframe(zipfile, filename):\n",
    "    return pd.read_csv(zipfile.open(filename), sep='|', encoding='ISO-8859-1')"
   ]
  },
  {
   "cell_type": "code",
   "execution_count": 7,
   "metadata": {},
   "outputs": [
    {
     "data": {
      "text/html": [
       "<div>\n",
       "<style scoped>\n",
       "    .dataframe tbody tr th:only-of-type {\n",
       "        vertical-align: middle;\n",
       "    }\n",
       "\n",
       "    .dataframe tbody tr th {\n",
       "        vertical-align: top;\n",
       "    }\n",
       "\n",
       "    .dataframe thead th {\n",
       "        text-align: right;\n",
       "    }\n",
       "</style>\n",
       "<table border=\"1\" class=\"dataframe\">\n",
       "  <thead>\n",
       "    <tr style=\"text-align: right;\">\n",
       "      <th></th>\n",
       "      <th>cod_pessoa</th>\n",
       "      <th>data_coleta</th>\n",
       "      <th>genero</th>\n",
       "      <th>data_nascimento</th>\n",
       "      <th>animal_estimacao</th>\n",
       "      <th>clima</th>\n",
       "      <th>bebida_favorita</th>\n",
       "      <th>hobbies</th>\n",
       "    </tr>\n",
       "  </thead>\n",
       "  <tbody>\n",
       "    <tr>\n",
       "      <th>486</th>\n",
       "      <td>10142726</td>\n",
       "      <td>2020-03-24</td>\n",
       "      <td>Masculino</td>\n",
       "      <td>1987-08-05</td>\n",
       "      <td>gato</td>\n",
       "      <td>moderado</td>\n",
       "      <td>Água</td>\n",
       "      <td>Escrever</td>\n",
       "    </tr>\n",
       "    <tr>\n",
       "      <th>1484</th>\n",
       "      <td>10143544</td>\n",
       "      <td>2020-09-15</td>\n",
       "      <td>Masculino</td>\n",
       "      <td>1963-04-16</td>\n",
       "      <td>peixe</td>\n",
       "      <td>moderado</td>\n",
       "      <td>Água</td>\n",
       "      <td>Praticar esporte</td>\n",
       "    </tr>\n",
       "    <tr>\n",
       "      <th>818</th>\n",
       "      <td>10142751</td>\n",
       "      <td>2020-05-26</td>\n",
       "      <td>Masculino</td>\n",
       "      <td>1972-08-12</td>\n",
       "      <td>gato</td>\n",
       "      <td>quente</td>\n",
       "      <td>Água</td>\n",
       "      <td>Pintar quadros</td>\n",
       "    </tr>\n",
       "    <tr>\n",
       "      <th>907</th>\n",
       "      <td>10142753</td>\n",
       "      <td>2020-06-13</td>\n",
       "      <td>Masculino</td>\n",
       "      <td>1959-12-13</td>\n",
       "      <td>tartaruga</td>\n",
       "      <td>moderado</td>\n",
       "      <td>refrigerante</td>\n",
       "      <td>Dormir</td>\n",
       "    </tr>\n",
       "    <tr>\n",
       "      <th>1596</th>\n",
       "      <td>10142385</td>\n",
       "      <td>2020-10-05</td>\n",
       "      <td>Masculino</td>\n",
       "      <td>1968-08-18</td>\n",
       "      <td>cachorro</td>\n",
       "      <td>frio</td>\n",
       "      <td>Água</td>\n",
       "      <td>Assistir TV</td>\n",
       "    </tr>\n",
       "  </tbody>\n",
       "</table>\n",
       "</div>"
      ],
      "text/plain": [
       "      cod_pessoa data_coleta     genero data_nascimento animal_estimacao  \\\n",
       "486     10142726  2020-03-24  Masculino      1987-08-05             gato   \n",
       "1484    10143544  2020-09-15  Masculino      1963-04-16            peixe   \n",
       "818     10142751  2020-05-26  Masculino      1972-08-12             gato   \n",
       "907     10142753  2020-06-13  Masculino      1959-12-13        tartaruga   \n",
       "1596    10142385  2020-10-05  Masculino      1968-08-18         cachorro   \n",
       "\n",
       "         clima bebida_favorita           hobbies  \n",
       "486   moderado            Água          Escrever  \n",
       "1484  moderado            Água  Praticar esporte  \n",
       "818     quente            Água    Pintar quadros  \n",
       "907   moderado    refrigerante            Dormir  \n",
       "1596      frio            Água       Assistir TV  "
      ]
     },
     "execution_count": 7,
     "metadata": {},
     "output_type": "execute_result"
    }
   ],
   "source": [
    "df_source = pd.concat([read_research_dataframe(zipped_datasets, filename) for filename in dataset_files], ignore_index=True)\n",
    "df_source.sample(5)"
   ]
  },
  {
   "cell_type": "code",
   "execution_count": 8,
   "metadata": {},
   "outputs": [
    {
     "name": "stdout",
     "output_type": "stream",
     "text": [
      "<class 'pandas.core.frame.DataFrame'>\n",
      "RangeIndex: 2127 entries, 0 to 2126\n",
      "Data columns (total 8 columns):\n",
      " #   Column            Non-Null Count  Dtype \n",
      "---  ------            --------------  ----- \n",
      " 0   cod_pessoa        2127 non-null   int64 \n",
      " 1   data_coleta       2127 non-null   object\n",
      " 2   genero            2127 non-null   object\n",
      " 3   data_nascimento   2127 non-null   object\n",
      " 4   animal_estimacao  2127 non-null   object\n",
      " 5   clima             2127 non-null   object\n",
      " 6   bebida_favorita   2127 non-null   object\n",
      " 7   hobbies           2127 non-null   object\n",
      "dtypes: int64(1), object(7)\n",
      "memory usage: 133.1+ KB\n"
     ]
    }
   ],
   "source": [
    "df_source.info()"
   ]
  },
  {
   "cell_type": "markdown",
   "metadata": {},
   "source": [
    "## Transform"
   ]
  },
  {
   "cell_type": "markdown",
   "metadata": {},
   "source": [
    "### Weather's dataset"
   ]
  },
  {
   "cell_type": "code",
   "execution_count": 9,
   "metadata": {},
   "outputs": [
    {
     "data": {
      "text/html": [
       "<div>\n",
       "<style scoped>\n",
       "    .dataframe tbody tr th:only-of-type {\n",
       "        vertical-align: middle;\n",
       "    }\n",
       "\n",
       "    .dataframe tbody tr th {\n",
       "        vertical-align: top;\n",
       "    }\n",
       "\n",
       "    .dataframe thead th {\n",
       "        text-align: right;\n",
       "    }\n",
       "</style>\n",
       "<table border=\"1\" class=\"dataframe\">\n",
       "  <thead>\n",
       "    <tr style=\"text-align: right;\">\n",
       "      <th></th>\n",
       "      <th>weather_id</th>\n",
       "      <th>weather_description</th>\n",
       "    </tr>\n",
       "  </thead>\n",
       "  <tbody>\n",
       "    <tr>\n",
       "      <th>0</th>\n",
       "      <td>1</td>\n",
       "      <td>frio</td>\n",
       "    </tr>\n",
       "    <tr>\n",
       "      <th>1</th>\n",
       "      <td>2</td>\n",
       "      <td>quente</td>\n",
       "    </tr>\n",
       "    <tr>\n",
       "      <th>2</th>\n",
       "      <td>3</td>\n",
       "      <td>moderado</td>\n",
       "    </tr>\n",
       "  </tbody>\n",
       "</table>\n",
       "</div>"
      ],
      "text/plain": [
       "   weather_id weather_description\n",
       "0           1                frio\n",
       "1           2              quente\n",
       "2           3            moderado"
      ]
     },
     "execution_count": 9,
     "metadata": {},
     "output_type": "execute_result"
    }
   ],
   "source": [
    "df_weather = df_source[['clima']].drop_duplicates().reset_index(drop=True)\n",
    "df_weather = df_weather.reset_index()\n",
    "df_weather = df_weather.rename(columns={'index': 'weather_id', 'clima': 'weather_description'})\n",
    "df_weather['weather_id'] += 1\n",
    "df_weather"
   ]
  },
  {
   "cell_type": "markdown",
   "metadata": {},
   "source": [
    "### Hobby's dataset"
   ]
  },
  {
   "cell_type": "code",
   "execution_count": 10,
   "metadata": {},
   "outputs": [
    {
     "data": {
      "text/html": [
       "<div>\n",
       "<style scoped>\n",
       "    .dataframe tbody tr th:only-of-type {\n",
       "        vertical-align: middle;\n",
       "    }\n",
       "\n",
       "    .dataframe tbody tr th {\n",
       "        vertical-align: top;\n",
       "    }\n",
       "\n",
       "    .dataframe thead th {\n",
       "        text-align: right;\n",
       "    }\n",
       "</style>\n",
       "<table border=\"1\" class=\"dataframe\">\n",
       "  <thead>\n",
       "    <tr style=\"text-align: right;\">\n",
       "      <th></th>\n",
       "      <th>hobby_id</th>\n",
       "      <th>hobby_description</th>\n",
       "    </tr>\n",
       "  </thead>\n",
       "  <tbody>\n",
       "    <tr>\n",
       "      <th>0</th>\n",
       "      <td>1</td>\n",
       "      <td>Praticar esporte</td>\n",
       "    </tr>\n",
       "    <tr>\n",
       "      <th>1</th>\n",
       "      <td>2</td>\n",
       "      <td>Assistir TV</td>\n",
       "    </tr>\n",
       "    <tr>\n",
       "      <th>2</th>\n",
       "      <td>3</td>\n",
       "      <td>Ler livros</td>\n",
       "    </tr>\n",
       "    <tr>\n",
       "      <th>3</th>\n",
       "      <td>4</td>\n",
       "      <td>Aprender algo novo</td>\n",
       "    </tr>\n",
       "    <tr>\n",
       "      <th>4</th>\n",
       "      <td>5</td>\n",
       "      <td>Escrever</td>\n",
       "    </tr>\n",
       "    <tr>\n",
       "      <th>5</th>\n",
       "      <td>6</td>\n",
       "      <td>Pintar quadros</td>\n",
       "    </tr>\n",
       "    <tr>\n",
       "      <th>6</th>\n",
       "      <td>7</td>\n",
       "      <td>Dormir</td>\n",
       "    </tr>\n",
       "    <tr>\n",
       "      <th>7</th>\n",
       "      <td>8</td>\n",
       "      <td>Escutar música</td>\n",
       "    </tr>\n",
       "  </tbody>\n",
       "</table>\n",
       "</div>"
      ],
      "text/plain": [
       "   hobby_id   hobby_description\n",
       "0         1    Praticar esporte\n",
       "1         2         Assistir TV\n",
       "2         3          Ler livros\n",
       "3         4  Aprender algo novo\n",
       "4         5            Escrever\n",
       "5         6      Pintar quadros\n",
       "6         7              Dormir\n",
       "7         8      Escutar música"
      ]
     },
     "execution_count": 10,
     "metadata": {},
     "output_type": "execute_result"
    }
   ],
   "source": [
    "df_hobby = df_source[['hobbies']].drop_duplicates().reset_index(drop=True)\n",
    "df_hobby = df_hobby.reset_index()\n",
    "df_hobby = df_hobby.rename(columns={'index': 'hobby_id', 'hobbies': 'hobby_description'})\n",
    "df_hobby['hobby_id'] += 1\n",
    "df_hobby"
   ]
  },
  {
   "cell_type": "markdown",
   "metadata": {},
   "source": [
    "### Drink's dataset"
   ]
  },
  {
   "cell_type": "code",
   "execution_count": 11,
   "metadata": {},
   "outputs": [
    {
     "data": {
      "text/html": [
       "<div>\n",
       "<style scoped>\n",
       "    .dataframe tbody tr th:only-of-type {\n",
       "        vertical-align: middle;\n",
       "    }\n",
       "\n",
       "    .dataframe tbody tr th {\n",
       "        vertical-align: top;\n",
       "    }\n",
       "\n",
       "    .dataframe thead th {\n",
       "        text-align: right;\n",
       "    }\n",
       "</style>\n",
       "<table border=\"1\" class=\"dataframe\">\n",
       "  <thead>\n",
       "    <tr style=\"text-align: right;\">\n",
       "      <th></th>\n",
       "      <th>drink_id</th>\n",
       "      <th>drink_description</th>\n",
       "    </tr>\n",
       "  </thead>\n",
       "  <tbody>\n",
       "    <tr>\n",
       "      <th>0</th>\n",
       "      <td>1</td>\n",
       "      <td>Cerveja</td>\n",
       "    </tr>\n",
       "    <tr>\n",
       "      <th>1</th>\n",
       "      <td>2</td>\n",
       "      <td>Café</td>\n",
       "    </tr>\n",
       "    <tr>\n",
       "      <th>2</th>\n",
       "      <td>3</td>\n",
       "      <td>refrigerante</td>\n",
       "    </tr>\n",
       "    <tr>\n",
       "      <th>3</th>\n",
       "      <td>4</td>\n",
       "      <td>Água</td>\n",
       "    </tr>\n",
       "    <tr>\n",
       "      <th>4</th>\n",
       "      <td>5</td>\n",
       "      <td>Vinho</td>\n",
       "    </tr>\n",
       "    <tr>\n",
       "      <th>5</th>\n",
       "      <td>6</td>\n",
       "      <td>Chá</td>\n",
       "    </tr>\n",
       "  </tbody>\n",
       "</table>\n",
       "</div>"
      ],
      "text/plain": [
       "   drink_id drink_description\n",
       "0         1           Cerveja\n",
       "1         2              Café\n",
       "2         3      refrigerante\n",
       "3         4              Água\n",
       "4         5             Vinho\n",
       "5         6               Chá"
      ]
     },
     "execution_count": 11,
     "metadata": {},
     "output_type": "execute_result"
    }
   ],
   "source": [
    "df_drink = df_source[['bebida_favorita']].drop_duplicates().reset_index(drop=True)\n",
    "df_drink = df_drink.reset_index()\n",
    "df_drink = df_drink.rename(columns={'index': 'drink_id', 'bebida_favorita': 'drink_description'})\n",
    "df_drink['drink_id'] += 1\n",
    "df_drink"
   ]
  },
  {
   "cell_type": "markdown",
   "metadata": {},
   "source": [
    "### Pet's dataset"
   ]
  },
  {
   "cell_type": "code",
   "execution_count": 12,
   "metadata": {},
   "outputs": [
    {
     "data": {
      "text/html": [
       "<div>\n",
       "<style scoped>\n",
       "    .dataframe tbody tr th:only-of-type {\n",
       "        vertical-align: middle;\n",
       "    }\n",
       "\n",
       "    .dataframe tbody tr th {\n",
       "        vertical-align: top;\n",
       "    }\n",
       "\n",
       "    .dataframe thead th {\n",
       "        text-align: right;\n",
       "    }\n",
       "</style>\n",
       "<table border=\"1\" class=\"dataframe\">\n",
       "  <thead>\n",
       "    <tr style=\"text-align: right;\">\n",
       "      <th></th>\n",
       "      <th>pet_id</th>\n",
       "      <th>pet_animal</th>\n",
       "    </tr>\n",
       "  </thead>\n",
       "  <tbody>\n",
       "    <tr>\n",
       "      <th>0</th>\n",
       "      <td>1</td>\n",
       "      <td>peixe</td>\n",
       "    </tr>\n",
       "    <tr>\n",
       "      <th>1</th>\n",
       "      <td>2</td>\n",
       "      <td>tartaruga</td>\n",
       "    </tr>\n",
       "    <tr>\n",
       "      <th>2</th>\n",
       "      <td>3</td>\n",
       "      <td>gato</td>\n",
       "    </tr>\n",
       "    <tr>\n",
       "      <th>3</th>\n",
       "      <td>4</td>\n",
       "      <td>cachorro</td>\n",
       "    </tr>\n",
       "  </tbody>\n",
       "</table>\n",
       "</div>"
      ],
      "text/plain": [
       "   pet_id pet_animal\n",
       "0       1      peixe\n",
       "1       2  tartaruga\n",
       "2       3       gato\n",
       "3       4   cachorro"
      ]
     },
     "execution_count": 12,
     "metadata": {},
     "output_type": "execute_result"
    }
   ],
   "source": [
    "df_pet = df_source[['animal_estimacao']].drop_duplicates().reset_index(drop=True)\n",
    "df_pet = df_pet.reset_index()\n",
    "df_pet = df_pet.rename(columns={'index': 'pet_id', 'animal_estimacao': 'pet_animal'})\n",
    "df_pet['pet_id'] += 1\n",
    "df_pet"
   ]
  },
  {
   "cell_type": "markdown",
   "metadata": {},
   "source": [
    "### Person's dataset"
   ]
  },
  {
   "cell_type": "code",
   "execution_count": 13,
   "metadata": {},
   "outputs": [
    {
     "data": {
      "text/html": [
       "<div>\n",
       "<style scoped>\n",
       "    .dataframe tbody tr th:only-of-type {\n",
       "        vertical-align: middle;\n",
       "    }\n",
       "\n",
       "    .dataframe tbody tr th {\n",
       "        vertical-align: top;\n",
       "    }\n",
       "\n",
       "    .dataframe thead th {\n",
       "        text-align: right;\n",
       "    }\n",
       "</style>\n",
       "<table border=\"1\" class=\"dataframe\">\n",
       "  <thead>\n",
       "    <tr style=\"text-align: right;\">\n",
       "      <th></th>\n",
       "      <th>person_id</th>\n",
       "      <th>person_gender</th>\n",
       "      <th>person_birthdate</th>\n",
       "    </tr>\n",
       "  </thead>\n",
       "  <tbody>\n",
       "    <tr>\n",
       "      <th>0</th>\n",
       "      <td>10141743</td>\n",
       "      <td>Masculino</td>\n",
       "      <td>1981-04-25</td>\n",
       "    </tr>\n",
       "    <tr>\n",
       "      <th>1</th>\n",
       "      <td>10141860</td>\n",
       "      <td>Feminino</td>\n",
       "      <td>1966-01-19</td>\n",
       "    </tr>\n",
       "    <tr>\n",
       "      <th>2</th>\n",
       "      <td>10142548</td>\n",
       "      <td>Masculino</td>\n",
       "      <td>1973-08-02</td>\n",
       "    </tr>\n",
       "    <tr>\n",
       "      <th>3</th>\n",
       "      <td>10142591</td>\n",
       "      <td>Masculino</td>\n",
       "      <td>1997-03-05</td>\n",
       "    </tr>\n",
       "    <tr>\n",
       "      <th>4</th>\n",
       "      <td>10142654</td>\n",
       "      <td>Feminino</td>\n",
       "      <td>1969-08-05</td>\n",
       "    </tr>\n",
       "    <tr>\n",
       "      <th>...</th>\n",
       "      <td>...</td>\n",
       "      <td>...</td>\n",
       "      <td>...</td>\n",
       "    </tr>\n",
       "    <tr>\n",
       "      <th>2122</th>\n",
       "      <td>10142475</td>\n",
       "      <td>Masculino</td>\n",
       "      <td>1955-05-30</td>\n",
       "    </tr>\n",
       "    <tr>\n",
       "      <th>2123</th>\n",
       "      <td>10142522</td>\n",
       "      <td>Masculino</td>\n",
       "      <td>1954-12-22</td>\n",
       "    </tr>\n",
       "    <tr>\n",
       "      <th>2124</th>\n",
       "      <td>10142881</td>\n",
       "      <td>Masculino</td>\n",
       "      <td>1952-07-30</td>\n",
       "    </tr>\n",
       "    <tr>\n",
       "      <th>2125</th>\n",
       "      <td>10143184</td>\n",
       "      <td>Masculino</td>\n",
       "      <td>1984-06-05</td>\n",
       "    </tr>\n",
       "    <tr>\n",
       "      <th>2126</th>\n",
       "      <td>10143307</td>\n",
       "      <td>Masculino</td>\n",
       "      <td>1971-08-29</td>\n",
       "    </tr>\n",
       "  </tbody>\n",
       "</table>\n",
       "<p>2127 rows × 3 columns</p>\n",
       "</div>"
      ],
      "text/plain": [
       "      person_id person_gender person_birthdate\n",
       "0      10141743     Masculino       1981-04-25\n",
       "1      10141860      Feminino       1966-01-19\n",
       "2      10142548     Masculino       1973-08-02\n",
       "3      10142591     Masculino       1997-03-05\n",
       "4      10142654      Feminino       1969-08-05\n",
       "...         ...           ...              ...\n",
       "2122   10142475     Masculino       1955-05-30\n",
       "2123   10142522     Masculino       1954-12-22\n",
       "2124   10142881     Masculino       1952-07-30\n",
       "2125   10143184     Masculino       1984-06-05\n",
       "2126   10143307     Masculino       1971-08-29\n",
       "\n",
       "[2127 rows x 3 columns]"
      ]
     },
     "execution_count": 13,
     "metadata": {},
     "output_type": "execute_result"
    }
   ],
   "source": [
    "df_person = df_source[['cod_pessoa', 'genero', 'data_nascimento']].drop_duplicates().reset_index(drop=True)\n",
    "df_person = df_person.rename(columns={'cod_pessoa': 'person_id', 'genero': 'person_gender', 'data_nascimento': 'person_birthdate'})\n",
    "df_person"
   ]
  },
  {
   "cell_type": "markdown",
   "metadata": {},
   "source": [
    "### Research's dataset"
   ]
  },
  {
   "cell_type": "code",
   "execution_count": 14,
   "metadata": {},
   "outputs": [
    {
     "data": {
      "text/html": [
       "<div>\n",
       "<style scoped>\n",
       "    .dataframe tbody tr th:only-of-type {\n",
       "        vertical-align: middle;\n",
       "    }\n",
       "\n",
       "    .dataframe tbody tr th {\n",
       "        vertical-align: top;\n",
       "    }\n",
       "\n",
       "    .dataframe thead th {\n",
       "        text-align: right;\n",
       "    }\n",
       "</style>\n",
       "<table border=\"1\" class=\"dataframe\">\n",
       "  <thead>\n",
       "    <tr style=\"text-align: right;\">\n",
       "      <th></th>\n",
       "      <th>research_id</th>\n",
       "      <th>research_date</th>\n",
       "      <th>person_id</th>\n",
       "      <th>pet_id</th>\n",
       "      <th>drink_id</th>\n",
       "      <th>hobby_id</th>\n",
       "      <th>weather_id</th>\n",
       "    </tr>\n",
       "  </thead>\n",
       "  <tbody>\n",
       "    <tr>\n",
       "      <th>0</th>\n",
       "      <td>1</td>\n",
       "      <td>2020-01-01</td>\n",
       "      <td>10141743</td>\n",
       "      <td>1</td>\n",
       "      <td>1</td>\n",
       "      <td>1</td>\n",
       "      <td>1</td>\n",
       "    </tr>\n",
       "    <tr>\n",
       "      <th>1</th>\n",
       "      <td>2</td>\n",
       "      <td>2020-03-17</td>\n",
       "      <td>10141885</td>\n",
       "      <td>1</td>\n",
       "      <td>1</td>\n",
       "      <td>1</td>\n",
       "      <td>1</td>\n",
       "    </tr>\n",
       "    <tr>\n",
       "      <th>2</th>\n",
       "      <td>3</td>\n",
       "      <td>2020-03-24</td>\n",
       "      <td>10142225</td>\n",
       "      <td>1</td>\n",
       "      <td>1</td>\n",
       "      <td>1</td>\n",
       "      <td>1</td>\n",
       "    </tr>\n",
       "    <tr>\n",
       "      <th>3</th>\n",
       "      <td>4</td>\n",
       "      <td>2020-04-09</td>\n",
       "      <td>10141845</td>\n",
       "      <td>1</td>\n",
       "      <td>1</td>\n",
       "      <td>1</td>\n",
       "      <td>1</td>\n",
       "    </tr>\n",
       "    <tr>\n",
       "      <th>4</th>\n",
       "      <td>5</td>\n",
       "      <td>2020-06-08</td>\n",
       "      <td>10143487</td>\n",
       "      <td>1</td>\n",
       "      <td>1</td>\n",
       "      <td>1</td>\n",
       "      <td>1</td>\n",
       "    </tr>\n",
       "    <tr>\n",
       "      <th>...</th>\n",
       "      <td>...</td>\n",
       "      <td>...</td>\n",
       "      <td>...</td>\n",
       "      <td>...</td>\n",
       "      <td>...</td>\n",
       "      <td>...</td>\n",
       "      <td>...</td>\n",
       "    </tr>\n",
       "    <tr>\n",
       "      <th>2122</th>\n",
       "      <td>2123</td>\n",
       "      <td>2020-11-19</td>\n",
       "      <td>10143582</td>\n",
       "      <td>4</td>\n",
       "      <td>3</td>\n",
       "      <td>8</td>\n",
       "      <td>1</td>\n",
       "    </tr>\n",
       "    <tr>\n",
       "      <th>2123</th>\n",
       "      <td>2124</td>\n",
       "      <td>2020-02-04</td>\n",
       "      <td>10141715</td>\n",
       "      <td>4</td>\n",
       "      <td>3</td>\n",
       "      <td>8</td>\n",
       "      <td>2</td>\n",
       "    </tr>\n",
       "    <tr>\n",
       "      <th>2124</th>\n",
       "      <td>2125</td>\n",
       "      <td>2020-07-27</td>\n",
       "      <td>10141505</td>\n",
       "      <td>4</td>\n",
       "      <td>3</td>\n",
       "      <td>8</td>\n",
       "      <td>2</td>\n",
       "    </tr>\n",
       "    <tr>\n",
       "      <th>2125</th>\n",
       "      <td>2126</td>\n",
       "      <td>2020-09-26</td>\n",
       "      <td>10142547</td>\n",
       "      <td>4</td>\n",
       "      <td>3</td>\n",
       "      <td>8</td>\n",
       "      <td>2</td>\n",
       "    </tr>\n",
       "    <tr>\n",
       "      <th>2126</th>\n",
       "      <td>2127</td>\n",
       "      <td>2020-07-26</td>\n",
       "      <td>10142103</td>\n",
       "      <td>4</td>\n",
       "      <td>3</td>\n",
       "      <td>8</td>\n",
       "      <td>3</td>\n",
       "    </tr>\n",
       "  </tbody>\n",
       "</table>\n",
       "<p>2127 rows × 7 columns</p>\n",
       "</div>"
      ],
      "text/plain": [
       "      research_id research_date  person_id  pet_id  drink_id  hobby_id  \\\n",
       "0               1    2020-01-01   10141743       1         1         1   \n",
       "1               2    2020-03-17   10141885       1         1         1   \n",
       "2               3    2020-03-24   10142225       1         1         1   \n",
       "3               4    2020-04-09   10141845       1         1         1   \n",
       "4               5    2020-06-08   10143487       1         1         1   \n",
       "...           ...           ...        ...     ...       ...       ...   \n",
       "2122         2123    2020-11-19   10143582       4         3         8   \n",
       "2123         2124    2020-02-04   10141715       4         3         8   \n",
       "2124         2125    2020-07-27   10141505       4         3         8   \n",
       "2125         2126    2020-09-26   10142547       4         3         8   \n",
       "2126         2127    2020-07-26   10142103       4         3         8   \n",
       "\n",
       "      weather_id  \n",
       "0              1  \n",
       "1              1  \n",
       "2              1  \n",
       "3              1  \n",
       "4              1  \n",
       "...          ...  \n",
       "2122           1  \n",
       "2123           2  \n",
       "2124           2  \n",
       "2125           2  \n",
       "2126           3  \n",
       "\n",
       "[2127 rows x 7 columns]"
      ]
     },
     "execution_count": 14,
     "metadata": {},
     "output_type": "execute_result"
    }
   ],
   "source": [
    "df_research = df_source \\\n",
    "    .merge(df_weather, left_on='clima', right_on='weather_description') \\\n",
    "    .merge(df_hobby, left_on='hobbies', right_on='hobby_description') \\\n",
    "    .merge(df_drink, left_on='bebida_favorita', right_on='drink_description') \\\n",
    "    .merge(df_pet, left_on='animal_estimacao', right_on='pet_animal') \\\n",
    "    .merge(df_person, left_on='cod_pessoa', right_on='person_id')\n",
    "df_research = df_research.reset_index()\n",
    "df_research = df_research.rename(columns={'index': 'research_id', 'data_coleta': 'research_date'})\n",
    "df_research = df_research[['research_id', 'research_date', 'person_id', 'pet_id', 'drink_id', 'hobby_id', 'weather_id']]\n",
    "df_research['research_id'] += 1\n",
    "df_research"
   ]
  },
  {
   "cell_type": "code",
   "execution_count": 15,
   "metadata": {},
   "outputs": [
    {
     "data": {
      "text/plain": [
       "Index(['research_id', 'research_date', 'person_id', 'pet_id', 'drink_id',\n",
       "       'hobby_id', 'weather_id'],\n",
       "      dtype='object')"
      ]
     },
     "execution_count": 15,
     "metadata": {},
     "output_type": "execute_result"
    }
   ],
   "source": [
    "df_research.columns"
   ]
  },
  {
   "cell_type": "markdown",
   "metadata": {},
   "source": [
    "## Load"
   ]
  },
  {
   "cell_type": "markdown",
   "metadata": {},
   "source": [
    "### Database connection"
   ]
  },
  {
   "cell_type": "code",
   "execution_count": 18,
   "metadata": {},
   "outputs": [],
   "source": [
    "from sqlalchemy import create_engine"
   ]
  },
  {
   "cell_type": "code",
   "execution_count": 19,
   "metadata": {},
   "outputs": [],
   "source": [
    "import os"
   ]
  },
  {
   "cell_type": "code",
   "execution_count": 20,
   "metadata": {},
   "outputs": [],
   "source": [
    "def get_engine_url_from_env():\n",
    "    env_vars = ['DB_ADAPTER', 'DB_HOST', 'DB_PORT', 'DB_USERNAME', 'DB_PASSWORD', 'DB_NAME']\n",
    "    adapter, host, port, username, password, database = [os.environ.get(env_var) for env_var in env_vars]\n",
    "    return f'{adapter}://{username}:{password}@{host}:{port}/{database}'"
   ]
  },
  {
   "cell_type": "code",
   "execution_count": 21,
   "metadata": {},
   "outputs": [
    {
     "data": {
      "text/plain": [
       "Engine(mysql+mysqlconnector://user:***@db:3306/research)"
      ]
     },
     "execution_count": 21,
     "metadata": {},
     "output_type": "execute_result"
    }
   ],
   "source": [
    "engine = create_engine(get_engine_url_from_env())\n",
    "engine"
   ]
  },
  {
   "cell_type": "markdown",
   "metadata": {},
   "source": [
    "### Storing data"
   ]
  },
  {
   "cell_type": "code",
   "execution_count": 22,
   "metadata": {},
   "outputs": [],
   "source": [
    "with engine.connect() as conn:\n",
    "    df_weather.to_sql('weather', con=conn, if_exists='append', index=False)\n",
    "    df_hobby.to_sql('hobby', con=conn, if_exists='append', index=False)\n",
    "    df_drink.to_sql('drink', con=conn, if_exists='append', index=False)\n",
    "    df_pet.to_sql('pet', con=conn, if_exists='append', index=False)\n",
    "    df_person.to_sql('person', con=conn, if_exists='append', index=False)\n",
    "    df_research.to_sql('research', con=conn, if_exists='append', index=False)"
   ]
  },
  {
   "cell_type": "code",
   "execution_count": null,
   "metadata": {},
   "outputs": [],
   "source": []
  }
 ],
 "metadata": {
  "kernelspec": {
   "display_name": "Python 3 (ipykernel)",
   "language": "python",
   "name": "python3"
  }
 },
 "nbformat": 4,
 "nbformat_minor": 4
}
